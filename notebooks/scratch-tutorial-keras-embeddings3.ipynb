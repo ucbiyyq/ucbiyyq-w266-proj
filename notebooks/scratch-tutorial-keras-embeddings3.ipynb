{
 "cells": [
  {
   "cell_type": "markdown",
   "metadata": {},
   "source": [
    "# About\n",
    "\n",
    "creating embeddings in Keras, maybe combo with actual PO data?\n",
    "\n",
    "https://machinelearningmastery.com/use-word-embedding-layers-deep-learning-keras/"
   ]
  },
  {
   "cell_type": "code",
   "execution_count": 39,
   "metadata": {},
   "outputs": [],
   "source": [
    "from numpy import array\n",
    "\n",
    "from numpy import asarray\n",
    "from numpy import zeros\n",
    "from keras.preprocessing.text import Tokenizer\n",
    "from keras.preprocessing.sequence import pad_sequences\n",
    "from keras.models import Sequential\n",
    "from keras.layers import Dense\n",
    "from keras.layers import Flatten\n",
    "from keras.layers import Embedding\n",
    "\n",
    "import pandas as pd\n",
    "import janitor"
   ]
  },
  {
   "cell_type": "code",
   "execution_count": 40,
   "metadata": {},
   "outputs": [],
   "source": [
    "p_in = \"../data/interim/unspsc-item.csv\"\n",
    "unspsc_item = pd.read_csv(p_in, dtype=str).clean_names()"
   ]
  },
  {
   "cell_type": "code",
   "execution_count": 41,
   "metadata": {},
   "outputs": [
    {
     "data": {
      "text/html": [
       "<div>\n",
       "<style scoped>\n",
       "    .dataframe tbody tr th:only-of-type {\n",
       "        vertical-align: middle;\n",
       "    }\n",
       "\n",
       "    .dataframe tbody tr th {\n",
       "        vertical-align: top;\n",
       "    }\n",
       "\n",
       "    .dataframe thead th {\n",
       "        text-align: right;\n",
       "    }\n",
       "</style>\n",
       "<table border=\"1\" class=\"dataframe\">\n",
       "  <thead>\n",
       "    <tr style=\"text-align: right;\">\n",
       "      <th></th>\n",
       "      <th>normalized_unspsc</th>\n",
       "      <th>item_name</th>\n",
       "    </tr>\n",
       "  </thead>\n",
       "  <tbody>\n",
       "    <tr>\n",
       "      <th>0</th>\n",
       "      <td>10101501</td>\n",
       "      <td>iphone</td>\n",
       "    </tr>\n",
       "    <tr>\n",
       "      <th>1</th>\n",
       "      <td>10101502</td>\n",
       "      <td>Amendment 1 - Option to Renew</td>\n",
       "    </tr>\n",
       "    <tr>\n",
       "      <th>2</th>\n",
       "      <td>10101502</td>\n",
       "      <td>CANINE, LAW ENFORCEMENT, NON-BITE, SEARCH DOG</td>\n",
       "    </tr>\n",
       "    <tr>\n",
       "      <th>3</th>\n",
       "      <td>10101502</td>\n",
       "      <td>CANINES</td>\n",
       "    </tr>\n",
       "    <tr>\n",
       "      <th>4</th>\n",
       "      <td>10101502</td>\n",
       "      <td>CANINES, NON-BITE</td>\n",
       "    </tr>\n",
       "  </tbody>\n",
       "</table>\n",
       "</div>"
      ],
      "text/plain": [
       "  normalized_unspsc                                      item_name\n",
       "0          10101501                                         iphone\n",
       "1          10101502                  Amendment 1 - Option to Renew\n",
       "2          10101502  CANINE, LAW ENFORCEMENT, NON-BITE, SEARCH DOG\n",
       "3          10101502                                        CANINES\n",
       "4          10101502                              CANINES, NON-BITE"
      ]
     },
     "execution_count": 41,
     "metadata": {},
     "output_type": "execute_result"
    }
   ],
   "source": [
    "unspsc_item.head()"
   ]
  },
  {
   "cell_type": "code",
   "execution_count": 42,
   "metadata": {},
   "outputs": [
    {
     "data": {
      "text/html": [
       "<div>\n",
       "<style scoped>\n",
       "    .dataframe tbody tr th:only-of-type {\n",
       "        vertical-align: middle;\n",
       "    }\n",
       "\n",
       "    .dataframe tbody tr th {\n",
       "        vertical-align: top;\n",
       "    }\n",
       "\n",
       "    .dataframe thead th {\n",
       "        text-align: right;\n",
       "    }\n",
       "</style>\n",
       "<table border=\"1\" class=\"dataframe\">\n",
       "  <thead>\n",
       "    <tr style=\"text-align: right;\">\n",
       "      <th></th>\n",
       "      <th>normalized_unspsc</th>\n",
       "      <th>item_name</th>\n",
       "    </tr>\n",
       "  </thead>\n",
       "  <tbody>\n",
       "    <tr>\n",
       "      <th>83480</th>\n",
       "      <td>43211503</td>\n",
       "      <td>Ultralight - Dell Lattitude E6230</td>\n",
       "    </tr>\n",
       "    <tr>\n",
       "      <th>173478</th>\n",
       "      <td>73101701</td>\n",
       "      <td>Order for Emerg. Prescriptions FY 12/13</td>\n",
       "    </tr>\n",
       "    <tr>\n",
       "      <th>14096</th>\n",
       "      <td>15101506</td>\n",
       "      <td>Fuel for Equip. 99C043</td>\n",
       "    </tr>\n",
       "    <tr>\n",
       "      <th>95063</th>\n",
       "      <td>43231512</td>\n",
       "      <td>ACAD DEEP SEC ANTI-MALWARE DXNA0575</td>\n",
       "    </tr>\n",
       "    <tr>\n",
       "      <th>17286</th>\n",
       "      <td>20121448</td>\n",
       "      <td>bonnet acorn</td>\n",
       "    </tr>\n",
       "    <tr>\n",
       "      <th>210573</th>\n",
       "      <td>92101603</td>\n",
       "      <td>Fuel Modification within defensible spacee zon...</td>\n",
       "    </tr>\n",
       "    <tr>\n",
       "      <th>85498</th>\n",
       "      <td>43211601</td>\n",
       "      <td>Cisco Catalyst Switch</td>\n",
       "    </tr>\n",
       "    <tr>\n",
       "      <th>210981</th>\n",
       "      <td>92121504</td>\n",
       "      <td>Amendments 5 &amp; 6</td>\n",
       "    </tr>\n",
       "    <tr>\n",
       "      <th>82091</th>\n",
       "      <td>43211501</td>\n",
       "      <td>computer server</td>\n",
       "    </tr>\n",
       "    <tr>\n",
       "      <th>31263</th>\n",
       "      <td>25173107</td>\n",
       "      <td>Garmin Rino 650 GPS/2-Way Radio</td>\n",
       "    </tr>\n",
       "  </tbody>\n",
       "</table>\n",
       "</div>"
      ],
      "text/plain": [
       "       normalized_unspsc                                          item_name\n",
       "83480           43211503                  Ultralight - Dell Lattitude E6230\n",
       "173478          73101701            Order for Emerg. Prescriptions FY 12/13\n",
       "14096           15101506                             Fuel for Equip. 99C043\n",
       "95063           43231512                ACAD DEEP SEC ANTI-MALWARE DXNA0575\n",
       "17286           20121448                                       bonnet acorn\n",
       "210573          92101603  Fuel Modification within defensible spacee zon...\n",
       "85498           43211601                              Cisco Catalyst Switch\n",
       "210981          92121504                                   Amendments 5 & 6\n",
       "82091           43211501                                    computer server\n",
       "31263           25173107                    Garmin Rino 650 GPS/2-Way Radio"
      ]
     },
     "execution_count": 42,
     "metadata": {},
     "output_type": "execute_result"
    }
   ],
   "source": [
    "smpl = unspsc_item.sample(n = 10, random_state = 0)\n",
    "smpl"
   ]
  },
  {
   "cell_type": "code",
   "execution_count": 43,
   "metadata": {},
   "outputs": [
    {
     "data": {
      "text/plain": [
       "['Ultralight - Dell Lattitude E6230',\n",
       " 'Order for Emerg. Prescriptions FY 12/13',\n",
       " 'Fuel for Equip. 99C043',\n",
       " 'ACAD DEEP SEC ANTI-MALWARE DXNA0575',\n",
       " 'bonnet acorn',\n",
       " 'Fuel Modification within defensible spacee zone and the wildland fire zone betwe',\n",
       " 'Cisco Catalyst Switch',\n",
       " 'Amendments 5 & 6',\n",
       " 'computer server',\n",
       " 'Garmin Rino 650 GPS/2-Way Radio']"
      ]
     },
     "execution_count": 43,
     "metadata": {},
     "output_type": "execute_result"
    }
   ],
   "source": [
    "docs = smpl[[\"item_name\"]].values.flatten().tolist()\n",
    "docs"
   ]
  },
  {
   "cell_type": "code",
   "execution_count": 44,
   "metadata": {},
   "outputs": [],
   "source": [
    "# define class labels\n",
    "labels = array([1,1,1,1,1,0,0,0,0,0])"
   ]
  },
  {
   "cell_type": "code",
   "execution_count": 45,
   "metadata": {},
   "outputs": [],
   "source": [
    "# prepare tokenizer\n",
    "t = Tokenizer()\n",
    "t.fit_on_texts(docs)\n",
    "vocab_size = len(t.word_index) + 1"
   ]
  },
  {
   "cell_type": "code",
   "execution_count": 46,
   "metadata": {},
   "outputs": [
    {
     "name": "stdout",
     "output_type": "stream",
     "text": [
      "[[4, 5, 6, 7], [8, 1, 9, 10, 11, 12, 13], [2, 1, 14, 15], [16, 17, 18, 19, 20, 21], [22, 23], [2, 24, 25, 26, 27, 3, 28, 29, 30, 31, 3, 32], [33, 34, 35], [36, 37, 38], [39, 40], [41, 42, 43, 44, 45, 46, 47]]\n",
      "4\n",
      "7\n",
      "4\n",
      "6\n",
      "2\n",
      "12\n",
      "3\n",
      "3\n",
      "2\n",
      "7\n"
     ]
    },
    {
     "data": {
      "text/plain": [
       "[None, None, None, None, None, None, None, None, None, None]"
      ]
     },
     "execution_count": 46,
     "metadata": {},
     "output_type": "execute_result"
    }
   ],
   "source": [
    "# integer encode the documents\n",
    "encoded_docs = t.texts_to_sequences(docs)\n",
    "print(encoded_docs)\n",
    "[print(len(x)) for x in encoded_docs]"
   ]
  },
  {
   "cell_type": "code",
   "execution_count": 47,
   "metadata": {},
   "outputs": [
    {
     "name": "stdout",
     "output_type": "stream",
     "text": [
      "[[ 4  5  6  7  0  0  0  0  0  0  0  0]\n",
      " [ 8  1  9 10 11 12 13  0  0  0  0  0]\n",
      " [ 2  1 14 15  0  0  0  0  0  0  0  0]\n",
      " [16 17 18 19 20 21  0  0  0  0  0  0]\n",
      " [22 23  0  0  0  0  0  0  0  0  0  0]\n",
      " [ 2 24 25 26 27  3 28 29 30 31  3 32]\n",
      " [33 34 35  0  0  0  0  0  0  0  0  0]\n",
      " [36 37 38  0  0  0  0  0  0  0  0  0]\n",
      " [39 40  0  0  0  0  0  0  0  0  0  0]\n",
      " [41 42 43 44 45 46 47  0  0  0  0  0]]\n"
     ]
    }
   ],
   "source": [
    "# pad documents to a max length of 4 words\n",
    "max_length = 12\n",
    "padded_docs = pad_sequences(encoded_docs, maxlen=max_length, padding='post')\n",
    "print(padded_docs)"
   ]
  },
  {
   "cell_type": "code",
   "execution_count": 48,
   "metadata": {},
   "outputs": [
    {
     "name": "stdout",
     "output_type": "stream",
     "text": [
      "Loaded 400000 word vectors.\n"
     ]
    }
   ],
   "source": [
    "# load the whole embedding into memory\n",
    "embeddings_index = dict()\n",
    "f = open('../data/external/glove/glove.6B.100d.txt')\n",
    "for line in f:\n",
    "    values = line.split()\n",
    "    word = values[0]\n",
    "    coefs = asarray(values[1:], dtype='float32')\n",
    "    embeddings_index[word] = coefs\n",
    "f.close()\n",
    "print('Loaded %s word vectors.' % len(embeddings_index))"
   ]
  },
  {
   "cell_type": "code",
   "execution_count": 49,
   "metadata": {},
   "outputs": [
    {
     "name": "stdout",
     "output_type": "stream",
     "text": [
      "[[ 0.          0.          0.         ...  0.          0.\n",
      "   0.        ]\n",
      " [-0.14401001  0.32554001  0.14257    ...  0.25398001  1.10780001\n",
      "  -0.073074  ]\n",
      " [-0.70880997  0.84255999  0.68713999 ...  0.072446    1.16419995\n",
      "  -0.20105   ]\n",
      " ...\n",
      " [-0.38679001  0.61233002  0.14796001 ... -0.16003001  0.64607\n",
      "  -0.82195002]\n",
      " [ 0.15542001  0.22266001  0.66749001 ... -0.25213     0.38793001\n",
      "   0.83459002]\n",
      " [-0.41181001 -1.00619996 -0.23506001 ... -0.11002     1.08140004\n",
      "   0.31467   ]]\n"
     ]
    }
   ],
   "source": [
    "# create a weight matrix for words in training docs\n",
    "embedding_matrix = zeros((vocab_size, 100))\n",
    "for word, i in t.word_index.items():\n",
    "    embedding_vector = embeddings_index.get(word)\n",
    "    if embedding_vector is not None:\n",
    "        embedding_matrix[i] = embedding_vector\n",
    "\n",
    "print(embedding_matrix)"
   ]
  },
  {
   "cell_type": "code",
   "execution_count": 54,
   "metadata": {},
   "outputs": [
    {
     "name": "stdout",
     "output_type": "stream",
     "text": [
      "_________________________________________________________________\n",
      "Layer (type)                 Output Shape              Param #   \n",
      "=================================================================\n",
      "embedding_4 (Embedding)      (None, 12, 100)           4800      \n",
      "_________________________________________________________________\n",
      "flatten_4 (Flatten)          (None, 1200)              0         \n",
      "_________________________________________________________________\n",
      "dense_4 (Dense)              (None, 1)                 1201      \n",
      "=================================================================\n",
      "Total params: 6,001\n",
      "Trainable params: 1,201\n",
      "Non-trainable params: 4,800\n",
      "_________________________________________________________________\n",
      "None\n"
     ]
    }
   ],
   "source": [
    "# define model\n",
    "model = Sequential()\n",
    "\n",
    "# input length needs to be the same as the padding (max_length)\n",
    "e = Embedding(vocab_size, 100, weights=[embedding_matrix], input_length=12, trainable=False)\n",
    "\n",
    "model.add(e)\n",
    "model.add(Flatten())\n",
    "model.add(Dense(1, activation='sigmoid'))\n",
    "# compile the model\n",
    "model.compile(optimizer='adam', loss='binary_crossentropy', metrics=['acc'])\n",
    "# summarize the model\n",
    "print(model.summary())"
   ]
  },
  {
   "cell_type": "code",
   "execution_count": 57,
   "metadata": {},
   "outputs": [
    {
     "data": {
      "text/plain": [
       "<keras.callbacks.History at 0x7f1e6e32a828>"
      ]
     },
     "execution_count": 57,
     "metadata": {},
     "output_type": "execute_result"
    }
   ],
   "source": [
    "# fit the model\n",
    "model.fit(padded_docs, labels, epochs=50, verbose=0)"
   ]
  },
  {
   "cell_type": "code",
   "execution_count": 58,
   "metadata": {},
   "outputs": [
    {
     "name": "stdout",
     "output_type": "stream",
     "text": [
      "Accuracy: 100.000000\n"
     ]
    }
   ],
   "source": [
    "# evaluate the model\n",
    "loss, accuracy = model.evaluate(padded_docs, labels, verbose=0)\n",
    "print('Accuracy: %f' % (accuracy*100))"
   ]
  }
 ],
 "metadata": {
  "kernelspec": {
   "display_name": "Python 3",
   "language": "python",
   "name": "python3"
  },
  "language_info": {
   "codemirror_mode": {
    "name": "ipython",
    "version": 3
   },
   "file_extension": ".py",
   "mimetype": "text/x-python",
   "name": "python",
   "nbconvert_exporter": "python",
   "pygments_lexer": "ipython3",
   "version": "3.7.3"
  }
 },
 "nbformat": 4,
 "nbformat_minor": 2
}
